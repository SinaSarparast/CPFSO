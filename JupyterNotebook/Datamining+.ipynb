{
 "cells": [
  {
   "cell_type": "code",
   "execution_count": 1,
   "metadata": {
    "collapsed": true
   },
   "outputs": [],
   "source": [
    "import pandas as pd\n",
    "import json\n",
    "import csv, os, pathlib, pprint, numpy as np"
   ]
  },
  {
   "cell_type": "code",
   "execution_count": 2,
   "metadata": {},
   "outputs": [
    {
     "name": "stderr",
     "output_type": "stream",
     "text": [
      "/usr/local/anaconda/anaconda3/lib/python3.6/site-packages/sklearn/cross_validation.py:44: DeprecationWarning: This module was deprecated in version 0.18 in favor of the model_selection module into which all the refactored classes and functions are moved. Also note that the interface of the new CV iterators are different from that of this module. This module will be removed in 0.20.\n",
      "  \"This module will be removed in 0.20.\", DeprecationWarning)\n"
     ]
    }
   ],
   "source": [
    "import re\n",
    "import string\n",
    "import time\n",
    "import json\n",
    "import numpy as np\n",
    "import matplotlib.pyplot as plt\n",
    "import sklearn.cross_validation as cv\n",
    "from pandas import DataFrame\n",
    "from collections import OrderedDict"
   ]
  },
  {
   "cell_type": "code",
   "execution_count": 3,
   "metadata": {},
   "outputs": [
    {
     "name": "stdout",
     "output_type": "stream",
     "text": [
      "39774\n"
     ]
    }
   ],
   "source": [
    "data_directory = os.path.join(os.getcwd(), \"data\")\n",
    "train_data_file_path = os.path.join(data_directory, \"train.json\")\n",
    "with open(train_data_file_path, 'r') as f:\n",
    "    train_data = json.load(f)\n",
    "print(len(train_data))  "
   ]
  },
  {
   "cell_type": "code",
   "execution_count": 4,
   "metadata": {
    "collapsed": true
   },
   "outputs": [],
   "source": [
    "\"\"\"\n",
    "Stores the cuisines and ingredients in separate variables (w/ duplicates).\n",
    "\"\"\"\n",
    "\n",
    "all_cuisines = []\n",
    "all_ingredients = []\n",
    "\n",
    "for recipe in train_data:\n",
    "    all_cuisines.append(recipe['cuisine'])\n",
    "    all_ingredients.extend(recipe['ingredients'])\n",
    "    \n",
    "all_cuisines = np.array(all_cuisines)\n",
    "all_ingredients = np.array(all_ingredients)"
   ]
  },
  {
   "cell_type": "code",
   "execution_count": 5,
   "metadata": {
    "collapsed": true
   },
   "outputs": [],
   "source": [
    "\"\"\"\n",
    "Isolates only unique cuisines and ingredients and sort them alphabetically.\n",
    "\"\"\"\n",
    "\n",
    "unique_cuisines, cuisine_counts = np.unique(all_cuisines, return_counts=True)\n",
    "unique_ingredients, ingredient_counts = np.unique(all_ingredients, return_counts=True)"
   ]
  },
  {
   "cell_type": "code",
   "execution_count": 6,
   "metadata": {},
   "outputs": [
    {
     "name": "stdout",
     "output_type": "stream",
     "text": [
      "20\n"
     ]
    }
   ],
   "source": [
    "print(len(unique_cuisines))"
   ]
  },
  {
   "cell_type": "code",
   "execution_count": 7,
   "metadata": {},
   "outputs": [
    {
     "name": "stdout",
     "output_type": "stream",
     "text": [
      "brazilian\n",
      "british\n",
      "cajun_creole\n",
      "chinese\n",
      "filipino\n",
      "french\n",
      "greek\n",
      "indian\n",
      "irish\n",
      "italian\n",
      "jamaican\n",
      "japanese\n",
      "korean\n",
      "mexican\n",
      "moroccan\n",
      "russian\n",
      "southern_us\n",
      "spanish\n",
      "thai\n",
      "vietnamese\n"
     ]
    }
   ],
   "source": [
    "\"\"\"\n",
    "List of unique cuisines.\n",
    "\"\"\"\n",
    "\n",
    "for cuisine in unique_cuisines:\n",
    "    print(cuisine)"
   ]
  },
  {
   "cell_type": "code",
   "execution_count": 8,
   "metadata": {},
   "outputs": [
    {
     "data": {
      "image/png": "[encoded data removed]",
      "text/plain": [
       "<matplotlib.figure.Figure at 0x7ff9a57065f8>"
      ]
     },
     "metadata": {},
     "output_type": "display_data"
    }
   ],
   "source": [
    "\"\"\"\n",
    "Explore cuisine frequency in the dataset.\n",
    "\"\"\"\n",
    "\n",
    "# Sort the cuisines by frequency.\n",
    "cuisine_counts, unique_cuisines = zip(*sorted(zip(cuisine_counts, unique_cuisines)))\n",
    "\n",
    "# Plot the frequencies.\n",
    "pos = np.arange(len(unique_cuisines)) + 0.5\n",
    "plt.figure(figsize=(20, 10))\n",
    "plt.barh(pos, cuisine_counts, align='center')\n",
    "plt.yticks(pos, unique_cuisines)\n",
    "plt.xlabel('Frequency')\n",
    "plt.ylabel('Cuisine')\n",
    "plt.title('Distribution')\n",
    "plt.show()"
   ]
  },
  {
   "cell_type": "code",
   "execution_count": 11,
   "metadata": {},
   "outputs": [
    {
     "name": "stdout",
     "output_type": "stream",
     "text": [
      "(    oz.) tomato sauce\n",
      "(   oz.) tomato paste\n",
      "(10 oz.) frozen chopped spinach\n",
      "(10 oz.) frozen chopped spinach, thawed and squeezed dry\n",
      "(14 oz.) sweetened condensed milk\n",
      "(14.5 oz.) diced tomatoes\n",
      "(15 oz.) refried beans\n",
      "1% low-fat buttermilk\n",
      "1% low-fat chocolate milk\n",
      "1% low-fat cottage cheese\n",
      "1% low-fat milk\n",
      "2 1/2 to 3 lb. chicken, cut into serving pieces\n",
      "2% low fat cheddar chees\n",
      "2% low-fat cottage cheese\n",
      "2% lowfat greek yogurt\n",
      "2% milk shredded mozzarella cheese\n",
      "2% reduced-fat milk\n",
      "25% less sodium chicken broth\n",
      "33% less sodium cooked deli ham\n",
      "33% less sodium cooked ham\n",
      "33% less sodium ham\n",
      "33% less sodium smoked fully cooked ham\n",
      "40% less sodium taco seasoning\n",
      "40% less sodium taco seasoning mix\n",
      "7 Up\n",
      "8 ounc ziti pasta, cook and drain\n",
      "95% lean ground beef\n",
      "A Taste of Thai Rice Noodles\n",
      "Accent Seasoning\n",
      "Adobo All Purpose Seasoning\n",
      "Alaskan king crab legs\n",
      "Alexia Waffle Fries\n",
      "Alfredo sauce\n",
      "Amarena cherries\n",
      "Amaretti Cookies\n",
      "American cheese\n",
      "Anaheim chile\n",
      "Angostura bitters\n",
      "Argo Corn Starch\n",
      "Asian chili sauce\n",
      "Asian sweet chili sauce\n",
      "Azteca Flour Tortillas\n",
      "BACARDI® Mixers Margarita Mix\n",
      "BACARDI® Superior\n",
      "BREAKSTONE'S Sour Cream\n",
      "Baileys Irish Cream Liqueur\n",
      "Balsamico Bianco\n",
      "Barilla Linguine\n",
      "Barilla Oven-Ready Lasagne\n",
      "Barilla Plus Pasta\n"
     ]
    }
   ],
   "source": [
    "for i in range(50):\n",
    "    print(unique_ingredients[i])"
   ]
  },
  {
   "cell_type": "code",
   "execution_count": 12,
   "metadata": {},
   "outputs": [
    {
     "name": "stdout",
     "output_type": "stream",
     "text": [
      "6714\n"
     ]
    }
   ],
   "source": [
    "print(len(unique_ingredients))"
   ]
  },
  {
   "cell_type": "code",
   "execution_count": null,
   "metadata": {
    "collapsed": true
   },
   "outputs": [],
   "source": []
  }
 ],
 "metadata": {
  "kernelspec": {
   "display_name": "Python [conda root]",
   "language": "python",
   "name": "conda-root-py"
  },
  "language_info": {
   "codemirror_mode": {
    "name": "ipython",
    "version": 3
   },
   "file_extension": ".py",
   "mimetype": "text/x-python",
   "name": "python",
   "nbconvert_exporter": "python",
   "pygments_lexer": "ipython3",
   "version": "3.6.3"
  }
 },
 "nbformat": 4,
 "nbformat_minor": 2
}
