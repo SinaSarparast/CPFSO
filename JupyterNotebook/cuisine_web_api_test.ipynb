{
 "cells": [
  {
   "cell_type": "code",
   "execution_count": 1,
   "metadata": {},
   "outputs": [
    {
     "name": "stdout",
     "output_type": "stream",
     "text": [
      "'no. ingredients: 428275'\n",
      "'no. unique ingredients: 6714'\n"
     ]
    },
    {
     "data": {
      "text/plain": [
       "True"
      ]
     },
     "execution_count": 1,
     "metadata": {},
     "output_type": "execute_result"
    }
   ],
   "source": [
    "import json\n",
    "from pprint import pprint"
   ]
  },
  {
   "cell_type": "code",
   "execution_count": null,
   "metadata": {},
   "outputs": [],
   "source": [
    "# Read JSON training data\n",
    "with open('./Dataset/train.json', 'r') as f:\n",
    "     data = json.load(f)\n",
    "f.closed\n",
    "\n",
    "ingredients = set()\n",
    "count = 0\n",
    "for dish in data:\n",
    "    for ingred in dish['ingredients']:\n",
    "        count += 1\n",
    "        ingredients.add(ingred)\n",
    "\n",
    "pprint('no. ingredients: ' + str(count))\n",
    "pprint('no. unique ingredients: '+ str(len(ingredients)))\n",
    "# pprint(ingredients)\n",
    "\n",
    "# Writing unique ingredients\n",
    "with open('./Dataset/unique_ingredients.txt', 'w') as file:\n",
    "     file.write('\\n'.join(ingredients))\n",
    "file.closed"
   ]
  },
  {
   "cell_type": "code",
   "execution_count": 18,
   "metadata": {},
   "outputs": [
    {
     "name": "stdout",
     "output_type": "stream",
     "text": [
      "6714\n"
     ]
    }
   ],
   "source": [
    "# Write unique ingredients into text file\n",
    "\n",
    "with open('./Dataset/unique_ingredients.txt', 'r') as file:\n",
    "     content = file.readlines()\n",
    "file.closed\n",
    "\n",
    "print(len(content))"
   ]
  },
  {
   "cell_type": "code",
   "execution_count": 20,
   "metadata": {},
   "outputs": [
    {
     "name": "stdout",
     "output_type": "stream",
     "text": [
      "{\"result\":\"ok\"}\n",
      "{'links': {}, 'ingredients': {'Protein': 21.56, 'data_source': 'usda_sr28', 'Vit_E': 0.26, 'FA_Poly': 0.892, 'Star': None, 'Vit_B6': 0.055, 'fish': False, 'Energ_KJ': None, 'Carbohydrt': 5.56, 'Sugar_Tot': 5.56, 'sesame': False, 'Food_Folate': 2.0, 'id': 19856, 'gluten_from_wheat': False, 'Zinc': 3.5, 'Phosphorus': 442.0, 'sulphites_ppm': None, 'Copper': 0.024, 'peanuts': False, 'Iodine': None, 'Folate_DFE': 2.0, 'long_desc': 'Cheese, mexican, queso chihuahua', 'Beta_Carot': 4.0, 'lupin': False, 'Ash': 4.06, 'FA_Mono': 8.443, 'mustard': False, 'Tryptophan60': None, 'milk': False, 'Niacin': 0.15, 'Choline_Tot': 15.4, 'Panto_Acid': 0.279, 'nuts': False, 'crustaceans': False, 'Vit_C': 0.0, 'Vit_K': 2.5, 'Nitrogen': None, 'Thiamin': 0.018, 'soya': False, 'Vit_A_IU': 193.0, 'Calcium': 651.0, 'Vit_A_RAE': 56.0, 'Fiber_TD': 0.0, 'sulphites': False, 'Energ_Kcal': 374.0, 'Potassium': 52.0, 'Vit_D_IU': 22.0, 'Biotin': None, 'celery': False, 'molluscs': False, 'Alpha_Carot': 0.0, 'FA_Trans': None, 'Retinol': 56.0, 'Vit_D_mcg': 0.5, 'Carotene': None, 'Iron': 0.47, 'Lut_Zea': 0.0, 'gluten_from_barley': False, 'Folic_Acid': 0.0, 'declaration_name': 'cheese\\n', 'gluten_from_rye': False, 'Vit_B12': 1.03, 'Lycopene': 0.0, 'gluten_from_millet': False, 'Selenium': 14.5, 'Cholestrl': 105.0, 'Lipid_Tot': 29.68, 'Chloride': None, 'egg': False, 'gluten_from_oats': False, 'FA_Sat': 18.843, 'Folate_Tot': 2.0, 'Sodium': 617.0, 'links': {}, 'Manganese': 0.071, 'Riboflavin': 0.225, 'Magnesium': 23.0, 'Beta_Crypt': 0.0}}\n"
     ]
    }
   ],
   "source": [
    "# Calling Ingredients Web API\n",
    "\n",
    "import requests\n",
    "\n",
    "session = requests.Session()\n",
    "email = 'andrewfok007@gmail.com'\n",
    "api_access_key = '637d38d977c1406b5ebb6956379b09fa'\n",
    "sessionUrl = 'http://www.alacalc.com/api/v1/sessions?email='+email+'&api_access_key='+api_access_key\n",
    "\n",
    "r = session.post(sessionUrl)\n",
    "print(r.text)\n",
    "\n",
    "r = session.get('http://www.alacalc.com/api/v1/ingredients/19856')\n",
    "\n",
    "print(json.loads(r.text))"
   ]
  },
  {
   "cell_type": "code",
   "execution_count": 12,
   "metadata": {},
   "outputs": [
    {
     "name": "stdout",
     "output_type": "stream",
     "text": [
      "[login okay! session created]\n",
      "querying bread crumbs\n",
      "...\n",
      "bread crumbs\n",
      " found :)\n",
      "cocktail sauce\n",
      " found :)\n",
      "unable to find hoagi or roll\n",
      " :(\n",
      "unable to find capellini\n",
      " :(\n",
      "unable to find creme de cacao\n",
      " :(\n",
      "unable to find Hawaiian salt\n",
      " :(\n",
      "liver\n",
      " found :)\n",
      "unable to find Jose Cuervo\n",
      " :(\n",
      "unable to find roma tomatoes\n",
      " :(\n",
      "goose liver\n",
      " found :)\n",
      "unable to find salted seaweed\n",
      " :(\n",
      "huckleberries\n",
      " found :)\n",
      "unable to find Red Gold® diced tomatoes\n",
      " :(\n",
      "whiskey\n",
      " found :)\n",
      "unable to find torn romain lettuc leav\n",
      " :(\n",
      "frozen brussels sprouts\n",
      " found :)\n",
      "cauliflower\n",
      " found :)\n",
      "onion rings\n",
      " found :)\n",
      "unable to find semi-sweet chocolate morsels\n",
      " :(\n",
      "unable to find fresno pepper\n",
      " :(\n",
      "whiskey\n",
      "13\n",
      "capellini\n",
      "0\n",
      "hoagi or roll\n",
      "0\n",
      "semi-sweet chocolate morsels\n",
      "0\n",
      "creme de cacao\n",
      "0\n",
      "Hawaiian salt\n",
      "0\n",
      "frozen brussels sprouts\n",
      "3\n",
      "Jose Cuervo\n",
      "0\n",
      "onion rings\n",
      "8\n",
      "cauliflower\n",
      "15\n",
      "fresno pepper\n",
      "0\n",
      "liver\n",
      "15\n",
      "torn romain lettuc leav\n",
      "0\n",
      "salted seaweed\n",
      "0\n",
      "huckleberries\n",
      "1\n",
      "goose liver\n",
      "3\n",
      "bread crumbs\n",
      "15\n",
      "cocktail sauce\n",
      "1\n",
      "Red Gold® diced tomatoes\n",
      "0\n",
      "roma tomatoes\n",
      "0\n"
     ]
    }
   ],
   "source": [
    "# Test direct ingredient name match with web api \n",
    "\n",
    "import requests, sys, json, random\n",
    "from time import sleep\n",
    "\n",
    "session = requests.Session()\n",
    "email = 'andrewfok007@gmail.com'\n",
    "api_access_key = '637d38d977c1406b5ebb6956379b09fa'\n",
    "sessionUrl = 'http://www.alacalc.com/api/v1/sessions?email='+email+'&api_access_key='+api_access_key\n",
    "\n",
    "try:\n",
    "    res = session.post(sessionUrl)\n",
    "    sessionResult = json.loads(res.text)\n",
    "    \n",
    "    if sessionResult['result'] != 'ok':\n",
    "        print('[unable to create session]')\n",
    "        sys.exit(0)\n",
    "        \n",
    "except Exception as error:\n",
    "    print('Caught this error: ' + repr(error))\n",
    "    sys.exit(0)\n",
    "\n",
    "print('[login okay! session created]')\n",
    "\n",
    "# read unique ingredients\n",
    "with open('./Dataset/unique_ingredients.txt', 'r') as file:\n",
    "     content = file.readlines()\n",
    "file.closed\n",
    "\n",
    "sampledIngreds = [content[idx] for idx in random.sample(range(0, len(content)), 20)]\n",
    "\n",
    "alacalc_query_url = 'http://www.alacalc.com/api/v1/ingredients/search?query={}&sources[]=usda&sources[]=alacalc&sources[]=cofids'\n",
    "\n",
    "print('querying {}...'.format(sampledIngreds[0]))\n",
    "\n",
    "ingredDict = {}\n",
    "\n",
    "for ingred in sampledIngreds:\n",
    "    try:\n",
    "        res = session.get(alacalc_query_url.format(ingred))\n",
    "        res = json.loads(res.text)\n",
    "\n",
    "        if len(res['ingredients']) == 0:\n",
    "            print('unable to find {} :('.format(ingred))\n",
    "        else:\n",
    "            print('{} found :)'.format(ingred))\n",
    "            \n",
    "        ingredDict[ingred] = res['ingredients']\n",
    "        \n",
    "        sleep(0.05)\n",
    "        \n",
    "    except Exception as error:\n",
    "        print('Caught this error: ' + repr(error))\n",
    "        sys.exit(0)\n",
    "    \n",
    "for name, results in ingredDict.items():\n",
    "    print(name + str(len(results)))"
   ]
  },
  {
   "cell_type": "code",
   "execution_count": 18,
   "metadata": {},
   "outputs": [
    {
     "name": "stdout",
     "output_type": "stream",
     "text": [
      "['Lipton Sparkling', 'Lipton Diet', 'Lipton Green', 'Lipton Tea', 'Lipton with', 'Lipton Strawberry', 'Lipton Kiwi', 'Sparkling Diet', 'Sparkling Green', 'Sparkling Tea', 'Sparkling with', 'Sparkling Strawberry', 'Sparkling Kiwi', 'Diet Green', 'Diet Tea', 'Diet with', 'Diet Strawberry', 'Diet Kiwi', 'Green Tea', 'Green with', 'Green Strawberry', 'Green Kiwi', 'Tea with', 'Tea Strawberry', 'Tea Kiwi', 'with Strawberry', 'with Kiwi', 'Strawberry Kiwi']\n"
     ]
    }
   ],
   "source": [
    "import itertools\n",
    "print([' '.join(x) for x in itertools.combinations('Lipton Sparkling Diet Green Tea with Strawberry Kiwi'.split(' '), 2)])"
   ]
  },
  {
   "cell_type": "code",
   "execution_count": null,
   "metadata": {},
   "outputs": [],
   "source": []
  }
 ],
 "metadata": {
  "kernelspec": {
   "display_name": "Python 3",
   "language": "python",
   "name": "python3"
  },
  "language_info": {
   "codemirror_mode": {
    "name": "ipython",
    "version": 3
   },
   "file_extension": ".py",
   "mimetype": "text/x-python",
   "name": "python",
   "nbconvert_exporter": "python",
   "pygments_lexer": "ipython3",
   "version": "3.5.2"
  }
 },
 "nbformat": 4,
 "nbformat_minor": 2
}
