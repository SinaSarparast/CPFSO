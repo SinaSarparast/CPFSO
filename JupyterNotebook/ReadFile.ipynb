{
 "cells": [
  {
   "cell_type": "markdown",
   "metadata": {},
   "source": [
    "## Running\n",
    "In order to execute code in a cell, press ctrl + enter, click on the [ Run button in the main menu, or press sift + enter if you wish to execute the code and then you can move on to another cell.\n",
    "\n",
    "## All codes have been written here using Python 3"
   ]
  },
  {
   "cell_type": "markdown",
   "metadata": {},
   "source": [
    "## Libraries"
   ]
  },
  {
   "cell_type": "code",
   "execution_count": 27,
   "metadata": {},
   "outputs": [],
   "source": [
    "import pandas as pd\n",
    "import json\n",
    "import codecs\n",
    "import csv\n",
    "import numpy as np\n",
    "from ast import literal_eval"
   ]
  },
  {
   "cell_type": "markdown",
   "metadata": {},
   "source": [
    "## Creating one class which can read our files on diffrent format  eithr on json or csv."
   ]
  },
  {
   "cell_type": "code",
   "execution_count": 36,
   "metadata": {},
   "outputs": [],
   "source": [
    "class CjonFile:\n",
    "    # read the file.\n",
    "    def readCjonFile(self,fileName,fileType):\n",
    "        if fileType == \"csv\":\n",
    "            # read csv file and save it as dataFram\n",
    "            df = pd.read_csv(fileName)\n",
    "            # remove any space from colum name\n",
    "            df.columns = df.columns.str.replace('\\s+', '') \n",
    "        else: # json file\n",
    "            json_data = json.load(codecs.open(fileName, 'r', 'utf-8-sig'))\n",
    "            #json_data = json.load(open(fileName))\n",
    "            df = pd.DataFrame(json_data)\n",
    "        return df\n",
    "    # print header of your file\n",
    "    def printHead(self,df):\n",
    "        print(df.head())\n",
    "    # print summary statistics of your file\n",
    "    def summaryStatistics(self,df):\n",
    "        print(df.describe())\n",
    "\n",
    "    def printColumn_name(self,df):\n",
    "        print(df.columns.values)\n",
    "    \n",
    "    def convertDataFrameToCSV(self,df):\n",
    "        filename = 'temp.csv'\n",
    "        return df.to_csv(filename)\n",
    "\n",
    "    def convertFromDataFrame_To_Json(self,df,f):\n",
    "        myJSON = df.to_json(path_or_buf = None, \n",
    "                            orient = 'records',\n",
    "                             date_format = 'epoch', \n",
    "                             double_precision = 10, \n",
    "                            force_ascii = True, \n",
    "                            date_unit = 'ms', \n",
    "                            default_handler = None)\n",
    "        with open(f,\"w+\") as output_file:\n",
    "            output_file.write(myJSON)\n",
    "\n",
    "    def convertFromDataFrame_To_CSV(self,df,fileName):\n",
    "        with open(fileName, 'a') as f:\n",
    "            df.to_csv(f,index=False)\n",
    "        return fileName"
   ]
  },
  {
   "cell_type": "markdown",
   "metadata": {},
   "source": [
    "In this section, we are going to read the data from different file formats such as json and csv and we will use the class file that is defined above in order to perform this task. Click on the following cell, and execute it:"
   ]
  },
  {
   "cell_type": "code",
   "execution_count": 37,
   "metadata": {},
   "outputs": [
    {
     "name": "stdout",
     "output_type": "stream",
     "text": [
      "['cuisine' 'id' 'ingredients']\n"
     ]
    }
   ],
   "source": [
    "fileName ='trainrecipeskaggle.json'\n",
    "\n",
    "creating_obj = CjonFile()\n",
    "data = creating_obj.readCjonFile(fileName,'json')\n",
    "creating_obj.printColumn_name(data)"
   ]
  },
  {
   "cell_type": "code",
   "execution_count": 38,
   "metadata": {},
   "outputs": [
    {
     "name": "stdout",
     "output_type": "stream",
     "text": [
      "                 id\n",
      "count  39774.000000\n",
      "mean   24849.536959\n",
      "std    14360.035505\n",
      "min        0.000000\n",
      "25%    12398.250000\n",
      "50%    24887.000000\n",
      "75%    37328.500000\n",
      "max    49717.000000\n"
     ]
    }
   ],
   "source": [
    "creating_obj.summaryStatistics(data)"
   ]
  },
  {
   "cell_type": "code",
   "execution_count": 39,
   "metadata": {},
   "outputs": [
    {
     "name": "stdout",
     "output_type": "stream",
     "text": [
      "       cuisine     id                                        ingredients\n",
      "0        greek  10259  [romaine lettuce, black olives, grape tomatoes...\n",
      "1  southern_us  25693  [plain flour, ground pepper, salt, tomatoes, g...\n",
      "2     filipino  20130  [eggs, pepper, salt, mayonaise, cooking oil, g...\n",
      "3       indian  22213                [water, vegetable oil, wheat, salt]\n",
      "4       indian  13162  [black pepper, shallots, cornflour, cayenne pe...\n"
     ]
    }
   ],
   "source": [
    "creating_obj.printHead(data)"
   ]
  }
 ],
 "metadata": {
  "kernelspec": {
   "display_name": "Python 3",
   "language": "python",
   "name": "python3"
  },
  "language_info": {
   "codemirror_mode": {
    "name": "ipython",
    "version": 3
   },
   "file_extension": ".py",
   "mimetype": "text/x-python",
   "name": "python",
   "nbconvert_exporter": "python",
   "pygments_lexer": "ipython3",
   "version": "3.6.3"
  }
 },
 "nbformat": 4,
 "nbformat_minor": 2
}
