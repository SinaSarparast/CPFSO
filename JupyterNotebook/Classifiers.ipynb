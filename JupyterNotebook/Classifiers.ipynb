{
 "cells": [
  {
   "cell_type": "code",
   "execution_count": 1,
   "metadata": {},
   "outputs": [
    {
     "name": "stderr",
     "output_type": "stream",
     "text": [
      "C:\\Users\\computer\\Anaconda3\\lib\\site-packages\\sklearn\\cross_validation.py:41: DeprecationWarning: This module was deprecated in version 0.18 in favor of the model_selection module into which all the refactored classes and functions are moved. Also note that the interface of the new CV iterators are different from that of this module. This module will be removed in 0.20.\n",
      "  \"This module will be removed in 0.20.\", DeprecationWarning)\n"
     ]
    }
   ],
   "source": [
    "import pandas as pd\n",
    "import numpy as np\n",
    "\n",
    "% matplotlib inline\n",
    "import matplotlib.pyplot as plt\n",
    "\n",
    "from collections import Counter\n",
    "from pprint import pprint\n",
    "\n",
    "pd.set_option('display.max_columns', None)\n",
    "pd.set_option('display.max_row', None)\n",
    "\n",
    "import re\n",
    "from nltk.stem import WordNetLemmatizer\n",
    "\n",
    "\n",
    "from sklearn.model_selection import GridSearchCV\n",
    "\n",
    "\n",
    "from sklearn.neighbors import KNeighborsClassifier\n",
    "from sklearn.tree import DecisionTreeClassifier\n",
    "from sklearn.ensemble import RandomForestClassifier\n",
    "from sklearn.svm import SVC\n",
    "import xgboost as xgb\n",
    "from sklearn.neural_network import MLPClassifier\n",
    "\n",
    "\n",
    "from sklearn.model_selection import cross_val_score\n",
    "from sklearn import cross_validation\n",
    "from sklearn.metrics import f1_score\n",
    "from sklearn.metrics import classification_report\n",
    "\n",
    "\n",
    "from sklearn.feature_extraction.text import TfidfVectorizer\n",
    "from sklearn.preprocessing import LabelEncoder\n",
    "\n",
    "\n",
    "from sklearn.model_selection import train_test_split\n",
    "\n",
    "from sklearn.pipeline import Pipeline\n"
   ]
  },
  {
   "cell_type": "markdown",
   "metadata": {},
   "source": [
    "## I. DATA LOAD"
   ]
  },
  {
   "cell_type": "code",
   "execution_count": 2,
   "metadata": {
    "collapsed": true
   },
   "outputs": [],
   "source": [
    "train = pd.read_json('data/train.json', encoding = 'UTF-8')"
   ]
  },
  {
   "cell_type": "markdown",
   "metadata": {},
   "source": [
    "COPY"
   ]
  },
  {
   "cell_type": "code",
   "execution_count": 3,
   "metadata": {},
   "outputs": [
    {
     "name": "stdout",
     "output_type": "stream",
     "text": [
      "(39774, 3)\n"
     ]
    },
    {
     "data": {
      "text/html": [
       "<div>\n",
       "<style>\n",
       "    .dataframe thead tr:only-child th {\n",
       "        text-align: right;\n",
       "    }\n",
       "\n",
       "    .dataframe thead th {\n",
       "        text-align: left;\n",
       "    }\n",
       "\n",
       "    .dataframe tbody tr th {\n",
       "        vertical-align: top;\n",
       "    }\n",
       "</style>\n",
       "<table border=\"1\" class=\"dataframe\">\n",
       "  <thead>\n",
       "    <tr style=\"text-align: right;\">\n",
       "      <th></th>\n",
       "      <th>cuisine</th>\n",
       "      <th>id</th>\n",
       "      <th>ingredients</th>\n",
       "    </tr>\n",
       "  </thead>\n",
       "  <tbody>\n",
       "    <tr>\n",
       "      <th>39772</th>\n",
       "      <td>chinese</td>\n",
       "      <td>41882</td>\n",
       "      <td>[boneless chicken skinless thigh, minced garli...</td>\n",
       "    </tr>\n",
       "    <tr>\n",
       "      <th>39773</th>\n",
       "      <td>mexican</td>\n",
       "      <td>2362</td>\n",
       "      <td>[green chile, jalapeno chilies, onions, ground...</td>\n",
       "    </tr>\n",
       "  </tbody>\n",
       "</table>\n",
       "</div>"
      ],
      "text/plain": [
       "       cuisine     id                                        ingredients\n",
       "39772  chinese  41882  [boneless chicken skinless thigh, minced garli...\n",
       "39773  mexican   2362  [green chile, jalapeno chilies, onions, ground..."
      ]
     },
     "execution_count": 3,
     "metadata": {},
     "output_type": "execute_result"
    }
   ],
   "source": [
    "df = train.copy()\n",
    "\n",
    "print(df.shape)\n",
    "df.tail(2)"
   ]
  },
  {
   "cell_type": "markdown",
   "metadata": {},
   "source": [
    "#### 1) Count"
   ]
  },
  {
   "cell_type": "code",
   "execution_count": 4,
   "metadata": {},
   "outputs": [
    {
     "data": {
      "text/plain": [
       "cuisine        39774\n",
       "id             39774\n",
       "ingredients    39774\n",
       "dtype: int64"
      ]
     },
     "execution_count": 4,
     "metadata": {},
     "output_type": "execute_result"
    }
   ],
   "source": [
    "df.count()"
   ]
  },
  {
   "cell_type": "markdown",
   "metadata": {},
   "source": [
    "#### 2) Number of NaNs for each column"
   ]
  },
  {
   "cell_type": "code",
   "execution_count": 5,
   "metadata": {},
   "outputs": [
    {
     "data": {
      "text/plain": [
       "cuisine        0\n",
       "id             0\n",
       "ingredients    0\n",
       "dtype: int64"
      ]
     },
     "execution_count": 5,
     "metadata": {},
     "output_type": "execute_result"
    }
   ],
   "source": [
    "df.isnull().sum()"
   ]
  },
  {
   "cell_type": "markdown",
   "metadata": {},
   "source": [
    "#### 3) Cuisine Types"
   ]
  },
  {
   "cell_type": "code",
   "execution_count": 6,
   "metadata": {},
   "outputs": [
    {
     "data": {
      "image/png": "[encoded data removed]",
      "text/plain": [
       "<matplotlib.figure.Figure at 0xf5968cea58>"
      ]
     },
     "metadata": {},
     "output_type": "display_data"
    }
   ],
   "source": [
    "# cuisine type\n",
    "\n",
    "plt.style.use('ggplot')\n",
    "df.cuisine.value_counts().plot(kind = 'bar',\n",
    "                              title='Cuisine Types',\n",
    "                              figsize=(10,5),\n",
    "                              legend=True,\n",
    "                              fontsize=12)\n",
    "plt.ylabel(\"Number of Recipes\", fontsize=12)\n",
    "plt.show()"
   ]
  },
  {
   "cell_type": "markdown",
   "metadata": {},
   "source": [
    "#### 4) Ingredients Types"
   ]
  },
  {
   "cell_type": "code",
   "execution_count": 7,
   "metadata": {},
   "outputs": [
    {
     "name": "stdout",
     "output_type": "stream",
     "text": [
      " ingredient.\n"
     ]
    }
   ],
   "source": [
    "\n",
    "bag_of_ingredients = [Counter(ingredient) for ingredient in df.ingredients]\n",
    "\n",
    "\n",
    "sum_of_ingredients = sum(bag_of_ingredients, Counter())\n",
    "\n",
    "########################################################################################\n",
    "\n",
    "\n",
    "\n",
    "# dict -> list -> dataframe\n",
    "sum_of_ingredients_dict = dict(sum_of_ingredients)\n",
    "sum_of_ingredients_list = list(sum_of_ingredients_dict.items())\n",
    "\n",
    "ingredients_df = pd.DataFrame(sum_of_ingredients_list)\n",
    "ingredients_df.columns = ['ingredient', 'count']\n",
    "ingredients_df.tail(2)\n",
    "\n",
    "print(' ingredient.'.format(len(ingredients_df)))"
   ]
  },
  {
   "cell_type": "code",
   "execution_count": 9,
   "metadata": {},
   "outputs": [
    {
     "data": {
      "text/html": [
       "<div>\n",
       "<style>\n",
       "    .dataframe thead tr:only-child th {\n",
       "        text-align: right;\n",
       "    }\n",
       "\n",
       "    .dataframe thead th {\n",
       "        text-align: left;\n",
       "    }\n",
       "\n",
       "    .dataframe tbody tr th {\n",
       "        vertical-align: top;\n",
       "    }\n",
       "</style>\n",
       "<table border=\"1\" class=\"dataframe\">\n",
       "  <thead>\n",
       "    <tr style=\"text-align: right;\">\n",
       "      <th></th>\n",
       "      <th>ingredient</th>\n",
       "      <th>count</th>\n",
       "    </tr>\n",
       "  </thead>\n",
       "  <tbody>\n",
       "    <tr>\n",
       "      <th>0</th>\n",
       "      <td>romaine lettuce</td>\n",
       "      <td>270</td>\n",
       "    </tr>\n",
       "    <tr>\n",
       "      <th>1</th>\n",
       "      <td>black olives</td>\n",
       "      <td>229</td>\n",
       "    </tr>\n",
       "    <tr>\n",
       "      <th>2</th>\n",
       "      <td>grape tomatoes</td>\n",
       "      <td>228</td>\n",
       "    </tr>\n",
       "    <tr>\n",
       "      <th>3</th>\n",
       "      <td>garlic</td>\n",
       "      <td>7380</td>\n",
       "    </tr>\n",
       "    <tr>\n",
       "      <th>4</th>\n",
       "      <td>pepper</td>\n",
       "      <td>4438</td>\n",
       "    </tr>\n",
       "    <tr>\n",
       "      <th>5</th>\n",
       "      <td>purple onion</td>\n",
       "      <td>1896</td>\n",
       "    </tr>\n",
       "    <tr>\n",
       "      <th>6</th>\n",
       "      <td>seasoning</td>\n",
       "      <td>137</td>\n",
       "    </tr>\n",
       "    <tr>\n",
       "      <th>7</th>\n",
       "      <td>garbanzo beans</td>\n",
       "      <td>148</td>\n",
       "    </tr>\n",
       "    <tr>\n",
       "      <th>8</th>\n",
       "      <td>feta cheese crumbles</td>\n",
       "      <td>358</td>\n",
       "    </tr>\n",
       "    <tr>\n",
       "      <th>9</th>\n",
       "      <td>plain flour</td>\n",
       "      <td>154</td>\n",
       "    </tr>\n",
       "    <tr>\n",
       "      <th>10</th>\n",
       "      <td>ground pepper</td>\n",
       "      <td>385</td>\n",
       "    </tr>\n",
       "    <tr>\n",
       "      <th>11</th>\n",
       "      <td>salt</td>\n",
       "      <td>18049</td>\n",
       "    </tr>\n",
       "    <tr>\n",
       "      <th>12</th>\n",
       "      <td>tomatoes</td>\n",
       "      <td>3058</td>\n",
       "    </tr>\n",
       "    <tr>\n",
       "      <th>13</th>\n",
       "      <td>ground black pepper</td>\n",
       "      <td>4785</td>\n",
       "    </tr>\n",
       "    <tr>\n",
       "      <th>14</th>\n",
       "      <td>thyme</td>\n",
       "      <td>361</td>\n",
       "    </tr>\n",
       "    <tr>\n",
       "      <th>15</th>\n",
       "      <td>eggs</td>\n",
       "      <td>3388</td>\n",
       "    </tr>\n",
       "    <tr>\n",
       "      <th>16</th>\n",
       "      <td>green tomatoes</td>\n",
       "      <td>108</td>\n",
       "    </tr>\n",
       "    <tr>\n",
       "      <th>17</th>\n",
       "      <td>yellow corn meal</td>\n",
       "      <td>341</td>\n",
       "    </tr>\n",
       "    <tr>\n",
       "      <th>18</th>\n",
       "      <td>milk</td>\n",
       "      <td>2263</td>\n",
       "    </tr>\n",
       "    <tr>\n",
       "      <th>19</th>\n",
       "      <td>vegetable oil</td>\n",
       "      <td>4385</td>\n",
       "    </tr>\n",
       "  </tbody>\n",
       "</table>\n",
       "</div>"
      ],
      "text/plain": [
       "              ingredient  count\n",
       "0        romaine lettuce    270\n",
       "1           black olives    229\n",
       "2         grape tomatoes    228\n",
       "3                 garlic   7380\n",
       "4                 pepper   4438\n",
       "5           purple onion   1896\n",
       "6              seasoning    137\n",
       "7         garbanzo beans    148\n",
       "8   feta cheese crumbles    358\n",
       "9            plain flour    154\n",
       "10         ground pepper    385\n",
       "11                  salt  18049\n",
       "12              tomatoes   3058\n",
       "13   ground black pepper   4785\n",
       "14                 thyme    361\n",
       "15                  eggs   3388\n",
       "16        green tomatoes    108\n",
       "17      yellow corn meal    341\n",
       "18                  milk   2263\n",
       "19         vegetable oil   4385"
      ]
     },
     "execution_count": 9,
     "metadata": {},
     "output_type": "execute_result"
    }
   ],
   "source": [
    "ingredients_df.head(20)"
   ]
  },
  {
   "cell_type": "markdown",
   "metadata": {},
   "source": [
    "## III. Pre-processing"
   ]
  },
  {
   "cell_type": "code",
   "execution_count": 10,
   "metadata": {
    "collapsed": true
   },
   "outputs": [],
   "source": [
    "def pre_processing_(recipe):\n",
    "    \n",
    "    wnl = WordNetLemmatizer()\n",
    "    \n",
    "    # 1. lower\n",
    "    recipe = [str.lower(ingredient) for ingredient in recipe]\n",
    "    \n",
    "    \n",
    "    def delete_brand_(ingredient):\n",
    "        \n",
    "        \n",
    "        ingredient = re.sub(\"country crock|i can't believe it's not butter!|bertolli|oreo|hellmann's\"\n",
    "                            , '', ingredient)\n",
    "        ingredient = re.sub(\"red gold|hidden valley|original ranch|frank's|redhot|lipton\", '', ingredient)\n",
    "        ingredient = re.sub(\"recipe secrets|eggland's best|hidden valley|best foods|knorr|land o lakes\"\n",
    "                            , '', ingredient)\n",
    "        ingredient = re.sub(\"sargento|johnsonville|breyers|diamond crystal|taco bell|bacardi\", '', ingredient)\n",
    "        ingredient = re.sub(\"mccormick|crystal farms|yoplait|mazola|new york style panetini\", '', ingredient)\n",
    "        ingredient = re.sub(\"ragu|soy vay|tabasco|truvía|crescent recipe creations|spice islands\", '', ingredient)\n",
    "        ingredient = re.sub(\"wish-bone|honeysuckle white|pasta sides|fiesta sides\", '', ingredient)\n",
    "        ingredient = re.sub(\"veri veri teriyaki|artisan blends|home originals|greek yogurt|original ranch\"\n",
    "                            , '', ingredient)\n",
    "        ingredient = re.sub(\"jonshonville\", '', ingredient)\n",
    "\n",
    "        \n",
    "        ingredient = re.sub(\"old el paso|pillsbury|progresso|betty crocker|green giant|hellmannâ€\", '', ingredient)\n",
    "\n",
    "        # 'oscar mayer deli fresh smoked' \n",
    "        ingredient = re.sub(\"oscar mayer deli fresh smoked\", '', ingredient)\n",
    "        \n",
    "        return ingredient\n",
    "    \n",
    "    \n",
    "    def delete_state_(ingredient):\n",
    "    \n",
    "        ingredient = re.sub('frozen|chopped|ground|fresh|powdered', '', ingredient)\n",
    "        ingredient = re.sub('sharp|crushed|grilled|roasted|sliced', '', ingredient)\n",
    "        ingredient = re.sub('cooked|shredded|cracked|minced|finely', '', ingredient)        \n",
    "     \n",
    "        return ingredient\n",
    "    \n",
    "    \n",
    "    def delete_comma_(ingredient):\n",
    "        \n",
    "        ingredient = ingredient.split(',')\n",
    "        ingredient = ingredient[0]\n",
    "        \n",
    "        return ingredient\n",
    "\n",
    "    \n",
    "    def original_(ingredient):\n",
    "        \n",
    "        \n",
    "        ingredient = re.sub('[0-9]', '', ingredient)\n",
    "        \n",
    "        \n",
    "        ingredient = ingredient.replace(\"oz.\", '')\n",
    "        ingredient = re.sub('[&%()®™/]', '', ingredient)\n",
    "        ingredient = re.sub('[-.]', '', ingredient)\n",
    "        \n",
    "        \n",
    "        ingredient = wnl.lemmatize(ingredient)\n",
    "        \n",
    "        return ingredient\n",
    "\n",
    "    \n",
    "    def delete_space_(ingredient):\n",
    "        \n",
    "        ingredient = ingredient.strip()\n",
    "        \n",
    "        return ingredient\n",
    "\n",
    "    recipe = [delete_brand_(ingredient) for ingredient in recipe]\n",
    "    recipe = [delete_state_(ingredient) for ingredient in recipe]\n",
    "    recipe = [delete_comma_(ingredient) for ingredient in recipe]\n",
    "    recipe = [original_(ingredient) for ingredient in recipe]\n",
    "    recipe = [delete_space_(ingredient) for ingredient in recipe]\n",
    "\n",
    "    return recipe"
   ]
  },
  {
   "cell_type": "code",
   "execution_count": 11,
   "metadata": {
    "collapsed": true,
    "scrolled": true
   },
   "outputs": [],
   "source": [
    "df['ingredients'] = df['ingredients'].apply(lambda x : pre_processing_(x))"
   ]
  },
  {
   "cell_type": "code",
   "execution_count": 12,
   "metadata": {
    "scrolled": true
   },
   "outputs": [
    {
     "name": "stdout",
     "output_type": "stream",
     "text": [
      "ingredient.\n"
     ]
    }
   ],
   "source": [
    "\n",
    "bag_of_ingredients = [Counter(ingredient) for ingredient in df.ingredients]\n",
    "\n",
    "sum_of_ingredients = sum(bag_of_ingredients, Counter())\n",
    "\n",
    "########################################################################################\n",
    "\n",
    "\n",
    "sum_of_ingredients_dict = dict(sum_of_ingredients)\n",
    "sum_of_ingredients_list = list(sum_of_ingredients_dict.items())\n",
    "\n",
    "ingredients_df = pd.DataFrame(sum_of_ingredients_list)\n",
    "ingredients_df.columns = ['ingredient', 'count']\n",
    "ingredients_df.tail(2)\n",
    "\n",
    "print('ingredient.'.format(len(ingredients_df)))"
   ]
  },
  {
   "cell_type": "markdown",
   "metadata": {},
   "source": [
    "## Case1) Using tfidfVectorizer"
   ]
  },
  {
   "cell_type": "code",
   "execution_count": 7,
   "metadata": {
    "collapsed": true
   },
   "outputs": [],
   "source": [
    "df['ingredients_train'] = df['ingredients'].apply(','.join)"
   ]
  },
  {
   "cell_type": "code",
   "execution_count": 8,
   "metadata": {
    "scrolled": true
   },
   "outputs": [
    {
     "name": "stdout",
     "output_type": "stream",
     "text": [
      "['romaine', 'lettuce', 'black', 'olives', 'grape', 'tomatoes', 'garlic', 'pepper', 'purple', 'onion']\n"
     ]
    }
   ],
   "source": [
    "\"\"\"\n",
    "TfidfVectorizer\n",
    "\"\"\"\n",
    "\n",
    "tfv = TfidfVectorizer()\n",
    "X = tfv.fit_transform(df['ingredients_train'].values)\n",
    "\n",
    "print(list(tfv.vocabulary_.keys())[:10])"
   ]
  },
  {
   "cell_type": "code",
   "execution_count": 8,
   "metadata": {
    "scrolled": true
   },
   "outputs": [
    {
     "name": "stdout",
     "output_type": "stream",
     "text": [
      "(39774, 2978)\n"
     ]
    }
   ],
   "source": [
    "print(X.shape)"
   ]
  },
  {
   "cell_type": "code",
   "execution_count": 9,
   "metadata": {
    "scrolled": true
   },
   "outputs": [
    {
     "name": "stdout",
     "output_type": "stream",
     "text": [
      "(39774,)\n"
     ]
    }
   ],
   "source": [
    "Lec = LabelEncoder()\n",
    "train_target_value = Lec.fit_transform(df['cuisine'].values)\n",
    "\n",
    "print(train_target_value.shape)"
   ]
  },
  {
   "cell_type": "code",
   "execution_count": 10,
   "metadata": {},
   "outputs": [
    {
     "name": "stdout",
     "output_type": "stream",
     "text": [
      "[ 6 16  4  7  7 10 17  9 13  9  9  3  9 13  9  7  1  9 18 19]\n"
     ]
    }
   ],
   "source": [
    "print(train_target_value[:20])"
   ]
  },
  {
   "cell_type": "code",
   "execution_count": 11,
   "metadata": {
    "scrolled": false
   },
   "outputs": [
    {
     "name": "stdout",
     "output_type": "stream",
     "text": [
      "['brazilian' 'british' 'cajun_creole' 'chinese' 'filipino' 'french' 'greek'\n",
      " 'indian' 'irish' 'italian' 'jamaican' 'japanese' 'korean' 'mexican'\n",
      " 'moroccan' 'russian' 'southern_us' 'spanish' 'thai' 'vietnamese']\n"
     ]
    }
   ],
   "source": [
    "print(Lec.classes_)"
   ]
  },
  {
   "cell_type": "code",
   "execution_count": 10,
   "metadata": {
    "scrolled": true
   },
   "outputs": [
    {
     "name": "stdout",
     "output_type": "stream",
     "text": [
      "(29830, 2978) (9944, 2978) (29830,) (9944,)\n"
     ]
    }
   ],
   "source": [
    "X_train, X_test, y_train, y_test = cross_validation.train_test_split(X, train_target_value)\n",
    "print(X_train.shape, X_test.shape, y_train.shape, y_test.shape)"
   ]
  },
  {
   "cell_type": "markdown",
   "metadata": {
    "collapsed": true
   },
   "source": [
    "## II. Model Selection"
   ]
  },
  {
   "cell_type": "code",
   "execution_count": 12,
   "metadata": {
    "collapsed": true
   },
   "outputs": [],
   "source": [
    "\"\"\" Random Forest Model \"\"\"\n",
    "def RandomForestClassifier_():\n",
    "    \n",
    "    pipe = Pipeline([('classifier', RandomForestClassifier())])\n",
    "    hyperparameter_space = [{'classifier' : [RandomForestClassifier()], \n",
    "                             'classifier__n_estimators' : [350, 375, 400],\n",
    "                             'classifier__max_features' : ['sqrt', 'log2']}]\n",
    "    \n",
    "    grid = GridSearchCV(pipe, hyperparameter_space, cv=3)\n",
    "    grid.fit(X_train, y_train)\n",
    "\n",
    "    cuisine = ['brazilian', 'british', 'cajun_creole', 'chinese', 'filipino', 'french', 'greek',\n",
    "               'indian', 'irish', 'italian', 'jamaican', 'japanese', 'korean', 'mexican', 'moroccan',\n",
    "               'russian', 'southern_us', 'spanish', 'thai', 'vietnamese']\n",
    "\n",
    "    print (classification_report(y_test, grid.predict(X_test), digits=4, target_names=cuisine))\n",
    "    \n",
    "    return print(\"Best parameters:\\n{}\\n\".format(grid.best_params_), \n",
    "                 \"Best score : {}\\n\".format(grid.best_score_),\n",
    "                 \"Test score : {}\".format(grid.score(X_test, y_test)))\n",
    "    \n",
    "\"\"\" SVM Model \"\"\"\n",
    "def SVM_():\n",
    "    pipe = Pipeline([('classifier', SVC())])\n",
    "    hyperparameter_space = [{'classifier': [SVC()],\n",
    "                             'classifier__gamma': ['auto'],\n",
    "                             'classifier__C' : [10, 15]}]\n",
    "    grid = GridSearchCV(pipe, hyperparameter_space, cv=3)\n",
    "    grid.fit(X_train, y_train)\n",
    "    \n",
    "    cuisine = ['brazilian', 'british', 'cajun_creole', 'chinese', 'filipino', 'french', 'greek',\n",
    "               'indian', 'irish', 'italian', 'jamaican', 'japanese', 'korean', 'mexican', 'moroccan',\n",
    "               'russian', 'southern_us', 'spanish', 'thai', 'vietnamese']\n",
    "\n",
    "    print (classification_report(y_test, grid.predict(X_test), digits=4, target_names=cuisine))\n",
    "    \n",
    "    return print(\"Best parameters:\\n{}\\n\".format(grid.best_params_), \n",
    "                 \"Best score : {}\\n\".format(grid.best_score_),\n",
    "                 \"Test score : {}\".format(grid.score(X_test, y_test)))\n",
    "\n",
    "\n",
    "\"\"\" KNN Model \"\"\"\n",
    "def KNN_():\n",
    "    \n",
    "    knn = KNeighborsClassifier()\n",
    "    \n",
    "    pipe = Pipeline([('classifier', knn)])\n",
    "    hyperparameter_space = [{'classifier': [knn],\n",
    "                             'classifier__n_neighbors': [15, 20, 25],\n",
    "                             'classifier__leaf_size' : [20, 25, 30]}]\n",
    "    grid = GridSearchCV(pipe, hyperparameter_space, cv=3)\n",
    "    grid.fit(X_train, y_train)\n",
    "        \n",
    "        \n",
    "    cuisine = ['brazilian', 'british', 'cajun_creole', 'chinese', 'filipino', 'french', 'greek',\n",
    "               'indian', 'irish', 'italian', 'jamaican', 'japanese', 'korean', 'mexican', 'moroccan',\n",
    "               'russian', 'southern_us', 'spanish', 'thai', 'vietnamese']\n",
    "\n",
    "    print (classification_report(y_test, knn.predict(X_test), digits=4, target_names=cuisine))\n",
    "    \n",
    "    return print(\"Best parameters:\\n{}\\n\".format(grid.best_params_), \n",
    "                 \"Best score : {}\\n\".format(grid.best_score_),\n",
    "                 \"Test score : {}\".format(grid.score(X_test, y_test)))\n",
    "\n",
    "\"\"\" Xgboost Model\"\"\"\n",
    "def Xgboost_():\n",
    "    pipe = Pipeline([('classifier', xgb.XGBClassifier())])\n",
    "    hyperparameter_space = [{'classifier': [xgb.XGBClassifier()],\n",
    "                             'classifier__max_depth': [3, 4, 5],\n",
    "                             'classifier__n_estimators' : [350, 375, 400]}]\n",
    "    grid = GridSearchCV(pipe, hyperparameter_space, cv=3)\n",
    "    grid.fit(X_train, y_train)\n",
    "    \n",
    "    cuisine = ['brazilian', 'british', 'cajun_creole', 'chinese', 'filipino', 'french', 'greek',\n",
    "               'indian', 'irish', 'italian', 'jamaican', 'japanese', 'korean', 'mexican', 'moroccan',\n",
    "               'russian', 'southern_us', 'spanish', 'thai', 'vietnamese']\n",
    "\n",
    "    print (classification_report(y_test, grid.predict(X_test), digits=4, target_names=cuisine))\n",
    "    \n",
    "    return print(\"Best parameters:\\n{}\\n\".format(grid.best_params_), \n",
    "                 \"Best score : {}\\n\".format(grid.best_score_),\n",
    "                 \"Test score : {}\".format(grid.score(X_test, y_test)))\n",
    "\n",
    "\n",
    "\"\"\" Decision Tree Model \"\"\"\n",
    "def DecisionTree_():\n",
    "    pipe = Pipeline([('classifier', DecisionTreeClassifier())])\n",
    "    hyperparameter_space = [{'classifier': [DecisionTreeClassifier()],\n",
    "                             'classifier__max_depth': [50, 60, 70]}]\n",
    "    grid = GridSearchCV(pipe, hyperparameter_space, cv=3)\n",
    "    grid.fit(X_train, y_train)\n",
    "    \n",
    "    cuisine = ['brazilian', 'british', 'cajun_creole', 'chinese', 'filipino', 'french', 'greek',\n",
    "               'indian', 'irish', 'italian', 'jamaican', 'japanese', 'korean', 'mexican', 'moroccan',\n",
    "               'russian', 'southern_us', 'spanish', 'thai', 'vietnamese']\n",
    "\n",
    "    print (classification_report(y_test, grid.predict(X_test), digits=4, target_names=cuisine))\n",
    "    \n",
    "    return print(\"Best parameters:\\n{}\\n\".format(grid.best_params_), \n",
    "                 \"Best score : {}\\n\".format(grid.best_score_),\n",
    "                 \"Test score : {}\".format(grid.score(X_test, y_test)))\n",
    "\n",
    "def Neural_network_():\n",
    "    nn = MLPClassifier(hidden_layer_sizes=(400,500,400))\n",
    "    nn.fit(X_train, y_train)\n",
    "    \n",
    "    cuisine = ['brazilian', 'british', 'cajun_creole', 'chinese', 'filipino', 'french', 'greek',\n",
    "               'indian', 'irish', 'italian', 'jamaican', 'japanese', 'korean', 'mexican', 'moroccan',\n",
    "               'russian', 'southern_us', 'spanish', 'thai', 'vietnamese']\n",
    "\n",
    "    print (classification_report(y_test, nn.predict(X_test), digits=4, target_names=cuisine))\n",
    "    return print(\"Test score : {}\".format(nn.score(X_test, y_test)))"
   ]
  },
  {
   "cell_type": "markdown",
   "metadata": {},
   "source": [
    "#### 1. Random Forest"
   ]
  },
  {
   "cell_type": "code",
   "execution_count": 27,
   "metadata": {},
   "outputs": [
    {
     "name": "stdout",
     "output_type": "stream",
     "text": [
      "              precision    recall  f1-score   support\n",
      "\n",
      "   brazilian     0.8852    0.4186    0.5684       129\n",
      "     british     0.7755    0.1929    0.3089       197\n",
      "cajun_creole     0.8360    0.6933    0.7580       375\n",
      "     chinese     0.7512    0.8865    0.8133       705\n",
      "    filipino     0.8969    0.4462    0.5959       195\n",
      "      french     0.5814    0.4659    0.5173       659\n",
      "       greek     0.8759    0.4618    0.6048       275\n",
      "      indian     0.8200    0.9318    0.8723       748\n",
      "       irish     0.8971    0.3526    0.5062       173\n",
      "     italian     0.6733    0.9318    0.7817      1935\n",
      "    jamaican     0.9859    0.5147    0.6763       136\n",
      "    japanese     0.8755    0.6374    0.7377       364\n",
      "      korean     0.9197    0.6332    0.7500       199\n",
      "     mexican     0.8458    0.9348    0.8880      1625\n",
      "    moroccan     0.9524    0.6186    0.7500       194\n",
      "     russian     0.8378    0.2331    0.3647       133\n",
      " southern_us     0.6402    0.7927    0.7083      1066\n",
      "     spanish     0.7957    0.2902    0.4253       255\n",
      "        thai     0.7836    0.7920    0.7878       375\n",
      "  vietnamese     0.9208    0.4515    0.6059       206\n",
      "\n",
      " avg / total     0.7699    0.7508    0.7340      9944\n",
      "\n",
      "Best parameters:\n",
      "{'classifier': RandomForestClassifier(bootstrap=True, class_weight=None, criterion='gini',\n",
      "            max_depth=None, max_features='log2', max_leaf_nodes=None,\n",
      "            min_impurity_decrease=0.0, min_impurity_split=None,\n",
      "            min_samples_leaf=1, min_samples_split=2,\n",
      "            min_weight_fraction_leaf=0.0, n_estimators=400, n_jobs=1,\n",
      "            oob_score=False, random_state=None, verbose=0,\n",
      "            warm_start=False), 'classifier__max_features': 'log2', 'classifier__n_estimators': 400}\n",
      " Best score : 0.7391216895742541\n",
      " Test score : 0.750804505229284\n",
      "Wall time: 1h 39s\n"
     ]
    }
   ],
   "source": [
    "%%time\n",
    "rf = RandomForestClassifier_()"
   ]
  },
  {
   "cell_type": "markdown",
   "metadata": {},
   "source": [
    "#### 2. SVM"
   ]
  },
  {
   "cell_type": "code",
   "execution_count": 26,
   "metadata": {},
   "outputs": [
    {
     "name": "stderr",
     "output_type": "stream",
     "text": [
      "c:\\Python36\\lib\\site-packages\\sklearn\\metrics\\classification.py:1135: UndefinedMetricWarning: Precision and F-score are ill-defined and being set to 0.0 in labels with no predicted samples.\n",
      "  'precision', 'predicted', average, warn_for)\n"
     ]
    },
    {
     "name": "stdout",
     "output_type": "stream",
     "text": [
      "              precision    recall  f1-score   support\n",
      "\n",
      "   brazilian     0.0000    0.0000    0.0000       129\n",
      "     british     0.0000    0.0000    0.0000       197\n",
      "cajun_creole     0.9643    0.0720    0.1340       375\n",
      "     chinese     0.5186    0.8113    0.6327       705\n",
      "    filipino     0.0000    0.0000    0.0000       195\n",
      "      french     0.0000    0.0000    0.0000       659\n",
      "       greek     0.0000    0.0000    0.0000       275\n",
      "      indian     0.8514    0.7353    0.7891       748\n",
      "       irish     0.0000    0.0000    0.0000       173\n",
      "     italian     0.3946    0.9385    0.5556      1935\n",
      "    jamaican     0.0000    0.0000    0.0000       136\n",
      "    japanese     1.0000    0.0330    0.0638       364\n",
      "      korean     0.0000    0.0000    0.0000       199\n",
      "     mexican     0.7901    0.8757    0.8307      1625\n",
      "    moroccan     0.0000    0.0000    0.0000       194\n",
      "     russian     0.0000    0.0000    0.0000       133\n",
      " southern_us     0.4514    0.6529    0.5337      1066\n",
      "     spanish     0.0000    0.0000    0.0000       255\n",
      "        thai     0.7667    0.4293    0.5504       375\n",
      "  vietnamese     0.0000    0.0000    0.0000       206\n",
      "\n",
      " avg / total     0.4570    0.5287    0.4334      9944\n",
      "\n",
      "Best parameters:\n",
      "{'classifier': SVC(C=15, cache_size=200, class_weight=None, coef0=0.0,\n",
      "  decision_function_shape='ovr', degree=3, gamma='auto', kernel='rbf',\n",
      "  max_iter=-1, probability=False, random_state=None, shrinking=True,\n",
      "  tol=0.001, verbose=False), 'classifier__C': 15, 'classifier__gamma': 'auto'}\n",
      " Best score : 0.48079114984914517\n",
      " Test score : 0.5286604987932422\n",
      "Wall time: 41min 31s\n"
     ]
    }
   ],
   "source": [
    "%%time\n",
    "SVM = SVM_()"
   ]
  },
  {
   "cell_type": "markdown",
   "metadata": {},
   "source": [
    "#### 3. KNN"
   ]
  },
  {
   "cell_type": "code",
   "execution_count": 24,
   "metadata": {},
   "outputs": [
    {
     "name": "stdout",
     "output_type": "stream",
     "text": [
      "              precision    recall  f1-score   support\n",
      "\n",
      "   brazilian     0.6630    0.4729    0.5520       129\n",
      "     british     0.7000    0.2487    0.3670       197\n",
      "cajun_creole     0.7205    0.7013    0.7108       375\n",
      "     chinese     0.7358    0.8652    0.7953       705\n",
      "    filipino     0.7344    0.4821    0.5820       195\n",
      "      french     0.5422    0.5660    0.5538       659\n",
      "       greek     0.7261    0.6073    0.6614       275\n",
      "      indian     0.8359    0.8650    0.8502       748\n",
      "       irish     0.7193    0.4740    0.5714       173\n",
      "     italian     0.7023    0.8863    0.7836      1935\n",
      "    jamaican     0.8876    0.5809    0.7022       136\n",
      "    japanese     0.8320    0.5852    0.6871       364\n",
      "      korean     0.7784    0.7236    0.7500       199\n",
      "     mexican     0.8361    0.8917    0.8630      1625\n",
      "    moroccan     0.8169    0.5979    0.6905       194\n",
      "     russian     0.8056    0.2180    0.3432       133\n",
      " southern_us     0.6686    0.7439    0.7043      1066\n",
      "     spanish     0.6667    0.3137    0.4267       255\n",
      "        thai     0.7577    0.7253    0.7411       375\n",
      "  vietnamese     0.8868    0.4563    0.6026       206\n",
      "\n",
      " avg / total     0.7415    0.7371    0.7261      9944\n",
      "\n",
      "Best parameters:\n",
      "{'classifier': KNeighborsClassifier(algorithm='auto', leaf_size=20, metric='minkowski',\n",
      "           metric_params=None, n_jobs=1, n_neighbors=20, p=2,\n",
      "           weights='uniform'), 'classifier__leaf_size': 20, 'classifier__n_neighbors': 20}\n",
      " Best score : 0.7285953737847805\n",
      " Test score : 0.7371279163314561\n",
      "Wall time: 26min 55s\n"
     ]
    }
   ],
   "source": [
    "%%time\n",
    "KNN = KNN_()"
   ]
  },
  {
   "cell_type": "markdown",
   "metadata": {},
   "source": [
    "#### 4. Xgboost"
   ]
  },
  {
   "cell_type": "code",
   "execution_count": 18,
   "metadata": {
    "scrolled": false
   },
   "outputs": [
    {
     "name": "stdout",
     "output_type": "stream",
     "text": [
      "              precision    recall  f1-score   support\n",
      "\n",
      "   brazilian     0.8171    0.5877    0.6837       114\n",
      "     british     0.7069    0.4039    0.5141       203\n",
      "cajun_creole     0.8138    0.7021    0.7538       386\n",
      "     chinese     0.7932    0.8425    0.8171       692\n",
      "    filipino     0.6732    0.5538    0.6077       186\n",
      "      french     0.6262    0.6315    0.6289       711\n",
      "       greek     0.8127    0.7306    0.7695       297\n",
      "      indian     0.8887    0.8990    0.8938       782\n",
      "       irish     0.7679    0.4914    0.5993       175\n",
      "     italian     0.7825    0.8902    0.8329      1968\n",
      "    jamaican     0.8776    0.6615    0.7544       130\n",
      "    japanese     0.7993    0.7229    0.7592       314\n",
      "      korean     0.8762    0.7532    0.8101       235\n",
      "     mexican     0.8997    0.9165    0.9080      1556\n",
      "    moroccan     0.8895    0.7220    0.7970       223\n",
      "     russian     0.7188    0.4340    0.5412       106\n",
      " southern_us     0.6547    0.7992    0.7198      1046\n",
      "     spanish     0.6527    0.4580    0.5383       238\n",
      "        thai     0.7907    0.7948    0.7927       385\n",
      "  vietnamese     0.6494    0.5076    0.5698       197\n",
      "\n",
      " avg / total     0.7843    0.7831    0.7787      9944\n",
      "\n",
      "Best parameters:\n",
      "{'classifier': XGBClassifier(base_score=0.5, booster='gbtree', colsample_bylevel=1,\n",
      "       colsample_bytree=1, gamma=0, learning_rate=0.1, max_delta_step=0,\n",
      "       max_depth=5, min_child_weight=1, missing=None, n_estimators=400,\n",
      "       n_jobs=1, nthread=None, objective='multi:softprob', random_state=0,\n",
      "       reg_alpha=0, reg_lambda=1, scale_pos_weight=1, seed=None,\n",
      "       silent=True, subsample=1), 'classifier__max_depth': 5, 'classifier__n_estimators': 400}\n",
      " Best score : 0.7664767013074086\n",
      " Test score : 0.7830852775543041\n",
      "Wall time: 4h 30min 37s\n"
     ]
    }
   ],
   "source": [
    "%%time\n",
    "Xgboost_()"
   ]
  },
  {
   "cell_type": "markdown",
   "metadata": {
    "collapsed": true
   },
   "source": [
    "#### 5. Decision Tree"
   ]
  },
  {
   "cell_type": "code",
   "execution_count": 22,
   "metadata": {},
   "outputs": [
    {
     "name": "stdout",
     "output_type": "stream",
     "text": [
      "              precision    recall  f1-score   support\n",
      "\n",
      "   brazilian     0.4522    0.4407    0.4464       118\n",
      "     british     0.3025    0.1714    0.2188       210\n",
      "cajun_creole     0.5491    0.5191    0.5337       366\n",
      "     chinese     0.6490    0.6617    0.6553       668\n",
      "    filipino     0.4545    0.2941    0.3571       204\n",
      "      french     0.4051    0.4230    0.4138       636\n",
      "       greek     0.6062    0.5164    0.5577       304\n",
      "      indian     0.7680    0.7423    0.7549       776\n",
      "       irish     0.3333    0.2822    0.3056       163\n",
      "     italian     0.7090    0.7354    0.7220      1965\n",
      "    jamaican     0.6273    0.4792    0.5433       144\n",
      "    japanese     0.5636    0.4987    0.5292       373\n",
      "      korean     0.6056    0.5215    0.5604       209\n",
      "     mexican     0.8016    0.7986    0.8001      1599\n",
      "    moroccan     0.5859    0.5321    0.5577       218\n",
      "     russian     0.2073    0.1318    0.1611       129\n",
      " southern_us     0.4403    0.6076    0.5106      1050\n",
      "     spanish     0.3361    0.3265    0.3313       245\n",
      "        thai     0.6361    0.6091    0.6223       353\n",
      "  vietnamese     0.4348    0.3738    0.4020       214\n",
      "\n",
      " avg / total     0.6089    0.6094    0.6063      9944\n",
      "\n",
      "Best parameters:\n",
      "{'classifier': DecisionTreeClassifier(class_weight=None, criterion='gini', max_depth=60,\n",
      "            max_features=None, max_leaf_nodes=None,\n",
      "            min_impurity_decrease=0.0, min_impurity_split=None,\n",
      "            min_samples_leaf=1, min_samples_split=2,\n",
      "            min_weight_fraction_leaf=0.0, presort=False, random_state=None,\n",
      "            splitter='best'), 'classifier__max_depth': 60}\n",
      " Best score : 0.5948374120013409\n",
      " Test score : 0.6094127111826226\n",
      "Wall time: 1min 9s\n"
     ]
    }
   ],
   "source": [
    "%%time\n",
    "DecisionTree_()"
   ]
  },
  {
   "cell_type": "markdown",
   "metadata": {},
   "source": [
    "#### 6. Neural Network"
   ]
  },
  {
   "cell_type": "code",
   "execution_count": 15,
   "metadata": {},
   "outputs": [
    {
     "name": "stdout",
     "output_type": "stream",
     "text": [
      "              precision    recall  f1-score   support\n",
      "\n",
      "   brazilian     0.5565    0.6465    0.5981        99\n",
      "     british     0.5822    0.4670    0.5183       182\n",
      "cajun_creole     0.7081    0.7255    0.7167       408\n",
      "     chinese     0.7851    0.7960    0.7905       647\n",
      "    filipino     0.6348    0.5678    0.5995       199\n",
      "      french     0.5881    0.5844    0.5863       628\n",
      "       greek     0.7843    0.6270    0.6969       319\n",
      "      indian     0.8335    0.9141    0.8720       745\n",
      "       irish     0.5315    0.4841    0.5067       157\n",
      "     italian     0.8336    0.8531    0.8432      1967\n",
      "    jamaican     0.7055    0.7863    0.7437       131\n",
      "    japanese     0.7500    0.7458    0.7479       358\n",
      "      korean     0.8051    0.7585    0.7811       207\n",
      "     mexican     0.9057    0.8963    0.9010      1629\n",
      "    moroccan     0.7465    0.7714    0.7588       210\n",
      "     russian     0.5657    0.4667    0.5114       120\n",
      " southern_us     0.7229    0.7565    0.7393      1076\n",
      "     spanish     0.4886    0.5244    0.5059       246\n",
      "        thai     0.7946    0.7848    0.7897       409\n",
      "  vietnamese     0.6750    0.5217    0.5886       207\n",
      "\n",
      " avg / total     0.7681    0.7695    0.7678      9944\n",
      "\n",
      "Test score : 0.7695092518101367\n",
      "Wall time: 6min 34s\n"
     ]
    }
   ],
   "source": [
    "%%time\n",
    "Neural_network = Neural_network_()"
   ]
  }
 ],
 "metadata": {
  "kernelspec": {
   "display_name": "Python [default]",
   "language": "python",
   "name": "python3"
  },
  "language_info": {
   "codemirror_mode": {
    "name": "ipython",
    "version": 3
   },
   "file_extension": ".py",
   "mimetype": "text/x-python",
   "name": "python",
   "nbconvert_exporter": "python",
   "pygments_lexer": "ipython3",
   "version": "3.6.3"
  }
 },
 "nbformat": 4,
 "nbformat_minor": 2
}
